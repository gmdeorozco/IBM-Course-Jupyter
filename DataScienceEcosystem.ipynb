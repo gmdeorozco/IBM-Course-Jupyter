{
  "cells": [
    {
      "cell_type": "markdown",
      "metadata": {},
      "source": [
        "<h1>Data Science Tools and Ecosystem</h1>"
      ]
    },
    {
      "cell_type": "markdown",
      "metadata": {},
      "source": [
        "In this notebook, we are going to cover some of the most useful Tools for Data Science. \n",
        "I hope you enjoy this notebook as I am doing right now."
      ]
    },
    {
      "cell_type": "markdown",
      "metadata": {},
      "source": [
        "<b> Objectives: </b>\n",
        "- List popular languages for Data Science\n",
        "- List useful libraries for Data Science\n",
        "- Create a table with open source tools for Data Science\n"
      ]
    },
    {
      "cell_type": "markdown",
      "metadata": {},
      "source": [
        "<h2>Commonly used languages for data science:</h2>\n",
        "<ul>\n",
        "    <li>Python</li>\n",
        "    <li>R</li>\n",
        "    <li>C</li>\n",
        "    <li>Java</li>\n",
        "    <li>Scala</li>\n",
        "    <li>Javascript</li>\n",
        "</ul>"
      ]
    },
    {
      "cell_type": "markdown",
      "metadata": {},
      "source": [
        "<h2>Commonly used libraries for data science:</h2>\n",
        "<ol>\n",
        "    <li>Pandas</li>\n",
        "    <li>Numpy</li>\n",
        "    <li>Pytorch</li>\n",
        "    <li>Tensorflow</li>\n",
        "    <li>Matplotlib</li>\n",
        "</ol>"
      ]
    },
    {
      "cell_type": "markdown",
      "metadata": {},
      "source": [
        "| Data Science Tools |\n",
        "| --- | \n",
        "| Spyder |\n",
        "| PyCharm |\n",
        "| JupyterLab / Notebooks |"
      ]
    },
    {
      "cell_type": "markdown",
      "metadata": {},
      "source": [
        "<h3>Below are a few examples of evaluating arithmetic expressions in Python.\n",
        "</h3>"
      ]
    },
    {
      "cell_type": "code",
      "execution_count": 2,
      "metadata": {
        "trusted": true
      },
      "outputs": [
        {
          "data": {
            "text/plain": [
              "17"
            ]
          },
          "execution_count": 2,
          "metadata": {},
          "output_type": "execute_result"
        }
      ],
      "source": [
        "#This a simple arithmetic expression to mutiply then add integers\n",
        "(3*4)+5"
      ]
    },
    {
      "cell_type": "code",
      "execution_count": 3,
      "metadata": {
        "trusted": true
      },
      "outputs": [
        {
          "data": {
            "text/plain": [
              "3.3333333333333335"
            ]
          },
          "execution_count": 3,
          "metadata": {},
          "output_type": "execute_result"
        }
      ],
      "source": [
        "#This will convert 200 minutes to hours by 60 (200 min to hours)\n",
        "200/60"
      ]
    },
    {
      "cell_type": "markdown",
      "metadata": {},
      "source": [
        "<h2>Author</h2>\n",
        "Ernesto Orozco"
      ]
    }
  ],
  "metadata": {
    "kernelspec": {
      "display_name": "Python (Pyodide)",
      "language": "python",
      "name": "python"
    },
    "language_info": {
      "codemirror_mode": {
        "name": "python",
        "version": 3
      },
      "file_extension": ".py",
      "mimetype": "text/x-python",
      "name": "python",
      "nbconvert_exporter": "python",
      "pygments_lexer": "ipython3",
      "version": "3.8"
    }
  },
  "nbformat": 4,
  "nbformat_minor": 4
}
